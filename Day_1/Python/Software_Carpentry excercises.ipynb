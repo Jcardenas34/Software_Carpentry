{
 "cells": [
  {
   "cell_type": "code",
   "execution_count": 4,
   "metadata": {
    "collapsed": true
   },
   "outputs": [],
   "source": [
    "text= \"Software Carpentry\""
   ]
  },
  {
   "cell_type": "code",
   "execution_count": 5,
   "metadata": {
    "collapsed": false
   },
   "outputs": [
    {
     "name": "stdout",
     "output_type": "stream",
     "text": [
      "Software Carpentry\n"
     ]
    }
   ],
   "source": [
    "print(text)"
   ]
  },
  {
   "cell_type": "code",
   "execution_count": 6,
   "metadata": {
    "collapsed": false
   },
   "outputs": [
    {
     "name": "stdout",
     "output_type": "stream",
     "text": [
      "5\n"
     ]
    }
   ],
   "source": [
    "num=5\n",
    "print(num)"
   ]
  },
  {
   "cell_type": "markdown",
   "metadata": {},
   "source": [
    "pi=3.14\n",
    "print(pi)"
   ]
  },
  {
   "cell_type": "code",
   "execution_count": 7,
   "metadata": {
    "collapsed": false
   },
   "outputs": [
    {
     "name": "stdout",
     "output_type": "stream",
     "text": [
      "3.14\n"
     ]
    }
   ],
   "source": [
    "pi=3.14\n",
    "print(pi)"
   ]
  },
  {
   "cell_type": "code",
   "execution_count": 8,
   "metadata": {
    "collapsed": false
   },
   "outputs": [
    {
     "data": {
      "text/plain": [
       "8"
      ]
     },
     "execution_count": 8,
     "metadata": {},
     "output_type": "execute_result"
    }
   ],
   "source": [
    "3+5"
   ]
  },
  {
   "cell_type": "markdown",
   "metadata": {},
   "source": [
    "2**3"
   ]
  },
  {
   "cell_type": "code",
   "execution_count": 9,
   "metadata": {
    "collapsed": false
   },
   "outputs": [
    {
     "data": {
      "text/plain": [
       "3"
      ]
     },
     "execution_count": 9,
     "metadata": {},
     "output_type": "execute_result"
    }
   ],
   "source": [
    "13 % 5"
   ]
  },
  {
   "cell_type": "markdown",
   "metadata": {},
   "source": []
  },
  {
   "cell_type": "code",
   "execution_count": 11,
   "metadata": {
    "collapsed": false
   },
   "outputs": [
    {
     "data": {
      "text/plain": [
       "True"
      ]
     },
     "execution_count": 11,
     "metadata": {},
     "output_type": "execute_result"
    }
   ],
   "source": [
    "var=5\n",
    "var>3"
   ]
  },
  {
   "cell_type": "code",
   "execution_count": 12,
   "metadata": {
    "collapsed": false
   },
   "outputs": [
    {
     "name": "stdout",
     "output_type": "stream",
     "text": [
      "14\n"
     ]
    }
   ],
   "source": [
    "a=3\n",
    "b=5\n",
    "c=6\n",
    "print(a+b+c)"
   ]
  },
  {
   "cell_type": "code",
   "execution_count": 16,
   "metadata": {
    "collapsed": false
   },
   "outputs": [
    {
     "name": "stdout",
     "output_type": "stream",
     "text": [
      "[1, 2, 3, 4, 5]\n"
     ]
    }
   ],
   "source": [
    "values=[1,2,3,4,5]\n",
    "print(values)"
   ]
  },
  {
   "cell_type": "code",
   "execution_count": 21,
   "metadata": {
    "collapsed": false
   },
   "outputs": [
    {
     "name": "stdout",
     "output_type": "stream",
     "text": [
      "{'one': 1, 'two': 2}\n"
     ]
    }
   ],
   "source": [
    "dictionary={'one':1, 'two':2}\n",
    "print(dictionary)"
   ]
  },
  {
   "cell_type": "code",
   "execution_count": 22,
   "metadata": {
    "collapsed": false
   },
   "outputs": [
    {
     "name": "stdout",
     "output_type": "stream",
     "text": [
      "1\n"
     ]
    }
   ],
   "source": [
    "print(dictionary['one'])"
   ]
  },
  {
   "cell_type": "code",
   "execution_count": 23,
   "metadata": {
    "collapsed": false
   },
   "outputs": [
    {
     "name": "stdout",
     "output_type": "stream",
     "text": [
      "(1, 2, 3)\n"
     ]
    }
   ],
   "source": [
    "a_tuple=(1,2,3)\n",
    "print(a_tuple)"
   ]
  },
  {
   "cell_type": "code",
   "execution_count": 24,
   "metadata": {
    "collapsed": true
   },
   "outputs": [],
   "source": [
    "a = [1,2,3]"
   ]
  },
  {
   "cell_type": "code",
   "execution_count": 25,
   "metadata": {
    "collapsed": true
   },
   "outputs": [],
   "source": [
    "a[0] = 4"
   ]
  },
  {
   "cell_type": "code",
   "execution_count": 26,
   "metadata": {
    "collapsed": false
   },
   "outputs": [
    {
     "name": "stdout",
     "output_type": "stream",
     "text": [
      "[4, 2, 3]\n"
     ]
    }
   ],
   "source": [
    "print(a)"
   ]
  },
  {
   "cell_type": "code",
   "execution_count": 27,
   "metadata": {
    "collapsed": true
   },
   "outputs": [],
   "source": [
    "b = (1,2,3)"
   ]
  },
  {
   "cell_type": "code",
   "execution_count": 28,
   "metadata": {
    "collapsed": false
   },
   "outputs": [
    {
     "name": "stdout",
     "output_type": "stream",
     "text": [
      "<class 'tuple'>\n"
     ]
    }
   ],
   "source": [
    "print(type(b))"
   ]
  },
  {
   "cell_type": "code",
   "execution_count": 29,
   "metadata": {
    "collapsed": false
   },
   "outputs": [
    {
     "ename": "TypeError",
     "evalue": "'tuple' object does not support item assignment",
     "output_type": "error",
     "traceback": [
      "\u001b[0;31m---------------------------------------------------------------------------\u001b[0m",
      "\u001b[0;31mTypeError\u001b[0m                                 Traceback (most recent call last)",
      "\u001b[0;32m<ipython-input-29-81241da03659>\u001b[0m in \u001b[0;36m<module>\u001b[0;34m()\u001b[0m\n\u001b[0;32m----> 1\u001b[0;31m \u001b[0mb\u001b[0m\u001b[1;33m[\u001b[0m\u001b[1;36m0\u001b[0m\u001b[1;33m]\u001b[0m\u001b[1;33m=\u001b[0m\u001b[1;36m8\u001b[0m\u001b[1;33m\u001b[0m\u001b[0m\n\u001b[0m",
      "\u001b[0;31mTypeError\u001b[0m: 'tuple' object does not support item assignment"
     ]
    }
   ],
   "source": [
    "b[0]=8"
   ]
  },
  {
   "cell_type": "code",
   "execution_count": 30,
   "metadata": {
    "collapsed": false
   },
   "outputs": [
    {
     "name": "stdout",
     "output_type": "stream",
     "text": [
      "3\n"
     ]
    }
   ],
   "source": [
    "print(b[2])"
   ]
  },
  {
   "cell_type": "code",
   "execution_count": 32,
   "metadata": {
    "collapsed": false
   },
   "outputs": [
    {
     "name": "stdout",
     "output_type": "stream",
     "text": [
      "<class 'list'>\n"
     ]
    }
   ],
   "source": [
    "print(type(a))"
   ]
  },
  {
   "cell_type": "code",
   "execution_count": 33,
   "metadata": {
    "collapsed": true
   },
   "outputs": [],
   "source": [
    "import pandas"
   ]
  },
  {
   "cell_type": "code",
   "execution_count": null,
   "metadata": {
    "collapsed": true
   },
   "outputs": [],
   "source": []
  },
  {
   "cell_type": "code",
   "execution_count": 36,
   "metadata": {
    "collapsed": false
   },
   "outputs": [
    {
     "name": "stdout",
     "output_type": "stream",
     "text": [
      "Help on package pandas:\n",
      "\n",
      "NAME\n",
      "    pandas\n",
      "\n",
      "DESCRIPTION\n",
      "    pandas - a powerful data analysis and manipulation library for Python\n",
      "    =====================================================================\n",
      "    \n",
      "    See http://pandas.pydata.org/ for full documentation. Otherwise, see the\n",
      "    docstrings of the various objects in the pandas namespace:\n",
      "    \n",
      "    Series\n",
      "    DataFrame\n",
      "    Panel\n",
      "    Index\n",
      "    DatetimeIndex\n",
      "    HDFStore\n",
      "    bdate_range\n",
      "    date_range\n",
      "    read_csv\n",
      "    read_fwf\n",
      "    read_table\n",
      "    ols\n",
      "\n",
      "PACKAGE CONTENTS\n",
      "    _hash\n",
      "    _join\n",
      "    _period\n",
      "    _sparse\n",
      "    _testing\n",
      "    _version\n",
      "    _window\n",
      "    algos\n",
      "    api (package)\n",
      "    compat (package)\n",
      "    computation (package)\n",
      "    core (package)\n",
      "    formats (package)\n",
      "    hashtable\n",
      "    index\n",
      "    indexes (package)\n",
      "    info\n",
      "    io (package)\n",
      "    json\n",
      "    lib\n",
      "    msgpack (package)\n",
      "    parser\n",
      "    rpy (package)\n",
      "    sparse (package)\n",
      "    stats (package)\n",
      "    tests (package)\n",
      "    tools (package)\n",
      "    tseries (package)\n",
      "    tslib\n",
      "    types (package)\n",
      "    util (package)\n",
      "\n",
      "SUBMODULES\n",
      "    offsets\n",
      "\n",
      "DATA\n",
      "    IndexSlice = <pandas.core.indexing._IndexSlice object>\n",
      "    NaT = NaT\n",
      "    __docformat__ = 'restructuredtext'\n",
      "    datetools = <module 'pandas.core.datetools' from 'C:\\\\Users\\...\\lib\\\\s...\n",
      "    describe_option = <pandas.core.config.CallableDynamicDoc object>\n",
      "    get_option = <pandas.core.config.CallableDynamicDoc object>\n",
      "    options = <pandas.core.config.DictWrapper object>\n",
      "    plot_params = {'xaxis.compat': False}\n",
      "    reset_option = <pandas.core.config.CallableDynamicDoc object>\n",
      "    set_option = <pandas.core.config.CallableDynamicDoc object>\n",
      "\n",
      "VERSION\n",
      "    0.19.2\n",
      "\n",
      "FILE\n",
      "    c:\\users\\juan cardenas\\anaconda3\\lib\\site-packages\\pandas\\__init__.py\n",
      "\n",
      "\n"
     ]
    }
   ],
   "source": [
    "help(pandas)"
   ]
  },
  {
   "cell_type": "code",
   "execution_count": 20,
   "metadata": {
    "collapsed": false
   },
   "outputs": [
    {
     "name": "stdout",
     "output_type": "stream",
     "text": [
      "[1, 2, 3, 4, 5, 6, 6]\n"
     ]
    }
   ],
   "source": [
    "values.append(6)\n",
    "print(values)"
   ]
  },
  {
   "cell_type": "code",
   "execution_count": 50,
   "metadata": {
    "collapsed": false
   },
   "outputs": [],
   "source": [
    "dem_data=pandas.read_csv(r\"C:\\Users\\Juan Cardenas\\Desktop\\Software_Carpentry\\Day_1\\Python\\Dem_HealthData\\TX.txt\", sep = '\\t')"
   ]
  },
  {
   "cell_type": "code",
   "execution_count": 51,
   "metadata": {
    "collapsed": false
   },
   "outputs": [
    {
     "name": "stdout",
     "output_type": "stream",
     "text": [
      "         County State  Population_Density  Poverty  Infant_Mortality  Suicide  \\\n",
      "0      Anderson    TX                  53     20.1               6.4     17.4   \n",
      "1       Andrews    TX                   8     15.0              10.7     13.6   \n",
      "2      Angelina    TX                 102     17.3               6.4     13.0   \n",
      "3       Aransas    TX                  98     18.5               7.0     18.8   \n",
      "4        Archer    TX                  10      9.1               8.9  -1111.1   \n",
      "5     Armstrong    TX                   2      9.7               NaN  -1111.1   \n",
      "6      Atascosa    TX                  35     19.0               8.8     17.1   \n",
      "7        Austin    TX                  40     11.3               5.7     11.3   \n",
      "8        Bailey    TX                   8     17.9               7.3  -1111.1   \n",
      "9       Bandera    TX                  25     12.4               7.6     22.2   \n",
      "10      Bastrop    TX                  79     12.6               5.6     16.4   \n",
      "11       Baylor    TX                   4     16.7               NaN  -1111.1   \n",
      "12          Bee    TX                  37     24.6               6.7     14.1   \n",
      "13         Bell    TX                 242     14.8               7.5     11.5   \n",
      "14        Bexar    TX                1218     17.6               7.0     10.3   \n",
      "15       Blanco    TX                  13     10.5               5.7     23.1   \n",
      "16       Borden    TX                   1      6.9               NaN  -1111.1   \n",
      "17       Bosque    TX                  18     14.3               8.2     14.8   \n",
      "18        Bowie    TX                 102     17.5               8.2     12.4   \n",
      "19     Brazoria    TX                 201     11.5               5.0     13.4   \n",
      "20       Brazos    TX                 267     18.9               4.4      8.8   \n",
      "21     Brewster    TX                   1     17.5              11.4     24.9   \n",
      "22      Briscoe    TX                   2     15.7               NaN  -1111.1   \n",
      "23       Brooks    TX                   8     29.5               3.1     15.0   \n",
      "24        Brown    TX                  41     18.1              11.2      8.3   \n",
      "25     Burleson    TX                  26     15.5               6.5     13.5   \n",
      "26       Burnet    TX                  42     11.9               6.8     13.2   \n",
      "27     Caldwell    TX                  67     14.7               7.4     14.0   \n",
      "28      Calhoun    TX                  40     16.3               3.6      9.9   \n",
      "29     Callahan    TX                  15     14.3               6.6     18.2   \n",
      "..          ...   ...                 ...      ...               ...      ...   \n",
      "224       Titus    TX                  72     16.4               5.5     15.1   \n",
      "225   Tom Green    TX                  68     16.7               8.0     15.9   \n",
      "226      Travis    TX                 898     13.9               5.8     12.9   \n",
      "227     Trinity    TX                  21     17.8              12.6     19.0   \n",
      "228       Tyler    TX                  22     17.5              13.1     12.1   \n",
      "229      Upshur    TX                  64     15.9               7.3     15.4   \n",
      "230       Upton    TX                   2     16.3               NaN  -1111.1   \n",
      "231      Uvalde    TX                  17     23.4               4.7      7.7   \n",
      "232   Val Verde    TX                  15     22.4               5.7      8.8   \n",
      "233   Van Zandt    TX                  62     14.0               4.3     20.2   \n",
      "234    Victoria    TX                  97     15.5               6.1     11.2   \n",
      "235      Walker    TX                  80     19.4               6.2     13.8   \n",
      "236      Waller    TX                  68     17.5               3.2     12.1   \n",
      "237        Ward    TX                  12     17.1               7.1     10.4   \n",
      "238  Washington    TX                  52     13.6               4.6      5.8   \n",
      "239        Webb    TX                  67     27.1               5.3      6.0   \n",
      "240     Wharton    TX                  38     15.6               5.3     10.3   \n",
      "241     Wheeler    TX                   5     13.8               7.6     23.7   \n",
      "242     Wichita    TX                 201     15.6               8.9     13.2   \n",
      "243   Wilbarger    TX                  14     15.9               6.7      9.6   \n",
      "244     Willacy    TX                  34     30.2               4.0      5.8   \n",
      "245  Williamson    TX                 297      6.9               4.9      7.9   \n",
      "246      Wilson    TX                  47     12.0               6.9      9.0   \n",
      "247     Winkler    TX                   8     16.4               5.0     21.9   \n",
      "248        Wise    TX                  63     10.8               6.2     13.3   \n",
      "249        Wood    TX                  63     15.2               8.4     14.8   \n",
      "250      Yoakum    TX                   9     15.5               3.6     17.8   \n",
      "251       Young    TX                  20     16.4               6.4     17.2   \n",
      "252      Zapata    TX                  13     27.0               5.0     10.5   \n",
      "253      Zavala    TX                   9     32.7               4.8     12.1   \n",
      "\n",
      "     Total_Births  Total_Deaths  \n",
      "0            3298          3018  \n",
      "1            2094          1093  \n",
      "2            6401          3955  \n",
      "3            2362          2560  \n",
      "4            1005           677  \n",
      "5             227           266  \n",
      "6            3164          1571  \n",
      "7            3236          2522  \n",
      "8            1207           615  \n",
      "9            1726          1407  \n",
      "10           4464          2265  \n",
      "11            409           700  \n",
      "12           1938          1123  \n",
      "13          16694          4819  \n",
      "14          73703         30791  \n",
      "15            949           917  \n",
      "16             37            40  \n",
      "17           2013          2641  \n",
      "18           5751          4922  \n",
      "19          12713          5183  \n",
      "20           6781          2343  \n",
      "21           1156           779  \n",
      "22            242           225  \n",
      "23           1417           773  \n",
      "24           2502          2386  \n",
      "25           2185          1613  \n",
      "26           2364          1920  \n",
      "27           2580          1405  \n",
      "28           3372          1671  \n",
      "29           1347          1409  \n",
      "..            ...           ...  \n",
      "224          2546          1338  \n",
      "225          4738          3035  \n",
      "226         43572         12200  \n",
      "227          1544          1892  \n",
      "228          2219          2448  \n",
      "229          2332          2101  \n",
      "230           487           349  \n",
      "231          2350          1174  \n",
      "232          4568          1561  \n",
      "233          3053          2930  \n",
      "234          6733          3466  \n",
      "235          3069          2139  \n",
      "236          2466          1189  \n",
      "237          1573          1073  \n",
      "238          1956          1729  \n",
      "239         17803          3046  \n",
      "240          3185          2056  \n",
      "241           574           883  \n",
      "242          5643          3875  \n",
      "243          1995          1844  \n",
      "244          3972          1186  \n",
      "245         14947          3857  \n",
      "246          2171          1313  \n",
      "247          1120           762  \n",
      "248          3392          2131  \n",
      "249          2135          2603  \n",
      "250          1256           566  \n",
      "251          2222          2563  \n",
      "252          2409           851  \n",
      "253          2125           922  \n",
      "\n",
      "[254 rows x 8 columns]\n"
     ]
    }
   ],
   "source": [
    "print(dem_data)"
   ]
  },
  {
   "cell_type": "code",
   "execution_count": 52,
   "metadata": {
    "collapsed": false
   },
   "outputs": [
    {
     "data": {
      "text/plain": [
       "pandas.core.frame.DataFrame"
      ]
     },
     "execution_count": 52,
     "metadata": {},
     "output_type": "execute_result"
    }
   ],
   "source": [
    "type(dem_data)"
   ]
  },
  {
   "cell_type": "code",
   "execution_count": 53,
   "metadata": {
    "collapsed": false
   },
   "outputs": [
    {
     "data": {
      "text/plain": [
       "County                 object\n",
       "State                  object\n",
       "Population_Density      int64\n",
       "Poverty               float64\n",
       "Infant_Mortality      float64\n",
       "Suicide               float64\n",
       "Total_Births            int64\n",
       "Total_Deaths            int64\n",
       "dtype: object"
      ]
     },
     "execution_count": 53,
     "metadata": {},
     "output_type": "execute_result"
    }
   ],
   "source": [
    "dem_data.dtypes"
   ]
  },
  {
   "cell_type": "code",
   "execution_count": 54,
   "metadata": {
    "collapsed": false
   },
   "outputs": [
    {
     "data": {
      "text/plain": [
       "array(['County', 'State', 'Population_Density', 'Poverty',\n",
       "       'Infant_Mortality', 'Suicide', 'Total_Births', 'Total_Deaths'], dtype=object)"
      ]
     },
     "execution_count": 54,
     "metadata": {},
     "output_type": "execute_result"
    }
   ],
   "source": [
    "dem_data.columns.values"
   ]
  },
  {
   "cell_type": "code",
   "execution_count": 58,
   "metadata": {
    "collapsed": false
   },
   "outputs": [
    {
     "data": {
      "text/html": [
       "<div>\n",
       "<table border=\"1\" class=\"dataframe\">\n",
       "  <thead>\n",
       "    <tr style=\"text-align: right;\">\n",
       "      <th></th>\n",
       "      <th>County</th>\n",
       "      <th>State</th>\n",
       "      <th>Population_Density</th>\n",
       "      <th>Poverty</th>\n",
       "      <th>Infant_Mortality</th>\n",
       "      <th>Suicide</th>\n",
       "      <th>Total_Births</th>\n",
       "      <th>Total_Deaths</th>\n",
       "    </tr>\n",
       "  </thead>\n",
       "  <tbody>\n",
       "    <tr>\n",
       "      <th>0</th>\n",
       "      <td>Anderson</td>\n",
       "      <td>TX</td>\n",
       "      <td>53</td>\n",
       "      <td>20.1</td>\n",
       "      <td>6.4</td>\n",
       "      <td>17.4</td>\n",
       "      <td>3298</td>\n",
       "      <td>3018</td>\n",
       "    </tr>\n",
       "    <tr>\n",
       "      <th>1</th>\n",
       "      <td>Andrews</td>\n",
       "      <td>TX</td>\n",
       "      <td>8</td>\n",
       "      <td>15.0</td>\n",
       "      <td>10.7</td>\n",
       "      <td>13.6</td>\n",
       "      <td>2094</td>\n",
       "      <td>1093</td>\n",
       "    </tr>\n",
       "    <tr>\n",
       "      <th>2</th>\n",
       "      <td>Angelina</td>\n",
       "      <td>TX</td>\n",
       "      <td>102</td>\n",
       "      <td>17.3</td>\n",
       "      <td>6.4</td>\n",
       "      <td>13.0</td>\n",
       "      <td>6401</td>\n",
       "      <td>3955</td>\n",
       "    </tr>\n",
       "    <tr>\n",
       "      <th>3</th>\n",
       "      <td>Aransas</td>\n",
       "      <td>TX</td>\n",
       "      <td>98</td>\n",
       "      <td>18.5</td>\n",
       "      <td>7.0</td>\n",
       "      <td>18.8</td>\n",
       "      <td>2362</td>\n",
       "      <td>2560</td>\n",
       "    </tr>\n",
       "    <tr>\n",
       "      <th>4</th>\n",
       "      <td>Archer</td>\n",
       "      <td>TX</td>\n",
       "      <td>10</td>\n",
       "      <td>9.1</td>\n",
       "      <td>8.9</td>\n",
       "      <td>-1111.1</td>\n",
       "      <td>1005</td>\n",
       "      <td>677</td>\n",
       "    </tr>\n",
       "    <tr>\n",
       "      <th>5</th>\n",
       "      <td>Armstrong</td>\n",
       "      <td>TX</td>\n",
       "      <td>2</td>\n",
       "      <td>9.7</td>\n",
       "      <td>0.0</td>\n",
       "      <td>-1111.1</td>\n",
       "      <td>227</td>\n",
       "      <td>266</td>\n",
       "    </tr>\n",
       "    <tr>\n",
       "      <th>6</th>\n",
       "      <td>Atascosa</td>\n",
       "      <td>TX</td>\n",
       "      <td>35</td>\n",
       "      <td>19.0</td>\n",
       "      <td>8.8</td>\n",
       "      <td>17.1</td>\n",
       "      <td>3164</td>\n",
       "      <td>1571</td>\n",
       "    </tr>\n",
       "    <tr>\n",
       "      <th>7</th>\n",
       "      <td>Austin</td>\n",
       "      <td>TX</td>\n",
       "      <td>40</td>\n",
       "      <td>11.3</td>\n",
       "      <td>5.7</td>\n",
       "      <td>11.3</td>\n",
       "      <td>3236</td>\n",
       "      <td>2522</td>\n",
       "    </tr>\n",
       "    <tr>\n",
       "      <th>8</th>\n",
       "      <td>Bailey</td>\n",
       "      <td>TX</td>\n",
       "      <td>8</td>\n",
       "      <td>17.9</td>\n",
       "      <td>7.3</td>\n",
       "      <td>-1111.1</td>\n",
       "      <td>1207</td>\n",
       "      <td>615</td>\n",
       "    </tr>\n",
       "    <tr>\n",
       "      <th>9</th>\n",
       "      <td>Bandera</td>\n",
       "      <td>TX</td>\n",
       "      <td>25</td>\n",
       "      <td>12.4</td>\n",
       "      <td>7.6</td>\n",
       "      <td>22.2</td>\n",
       "      <td>1726</td>\n",
       "      <td>1407</td>\n",
       "    </tr>\n",
       "    <tr>\n",
       "      <th>10</th>\n",
       "      <td>Bastrop</td>\n",
       "      <td>TX</td>\n",
       "      <td>79</td>\n",
       "      <td>12.6</td>\n",
       "      <td>5.6</td>\n",
       "      <td>16.4</td>\n",
       "      <td>4464</td>\n",
       "      <td>2265</td>\n",
       "    </tr>\n",
       "    <tr>\n",
       "      <th>11</th>\n",
       "      <td>Baylor</td>\n",
       "      <td>TX</td>\n",
       "      <td>4</td>\n",
       "      <td>16.7</td>\n",
       "      <td>0.0</td>\n",
       "      <td>-1111.1</td>\n",
       "      <td>409</td>\n",
       "      <td>700</td>\n",
       "    </tr>\n",
       "    <tr>\n",
       "      <th>12</th>\n",
       "      <td>Bee</td>\n",
       "      <td>TX</td>\n",
       "      <td>37</td>\n",
       "      <td>24.6</td>\n",
       "      <td>6.7</td>\n",
       "      <td>14.1</td>\n",
       "      <td>1938</td>\n",
       "      <td>1123</td>\n",
       "    </tr>\n",
       "    <tr>\n",
       "      <th>13</th>\n",
       "      <td>Bell</td>\n",
       "      <td>TX</td>\n",
       "      <td>242</td>\n",
       "      <td>14.8</td>\n",
       "      <td>7.5</td>\n",
       "      <td>11.5</td>\n",
       "      <td>16694</td>\n",
       "      <td>4819</td>\n",
       "    </tr>\n",
       "    <tr>\n",
       "      <th>14</th>\n",
       "      <td>Bexar</td>\n",
       "      <td>TX</td>\n",
       "      <td>1218</td>\n",
       "      <td>17.6</td>\n",
       "      <td>7.0</td>\n",
       "      <td>10.3</td>\n",
       "      <td>73703</td>\n",
       "      <td>30791</td>\n",
       "    </tr>\n",
       "    <tr>\n",
       "      <th>15</th>\n",
       "      <td>Blanco</td>\n",
       "      <td>TX</td>\n",
       "      <td>13</td>\n",
       "      <td>10.5</td>\n",
       "      <td>5.7</td>\n",
       "      <td>23.1</td>\n",
       "      <td>949</td>\n",
       "      <td>917</td>\n",
       "    </tr>\n",
       "    <tr>\n",
       "      <th>16</th>\n",
       "      <td>Borden</td>\n",
       "      <td>TX</td>\n",
       "      <td>1</td>\n",
       "      <td>6.9</td>\n",
       "      <td>0.0</td>\n",
       "      <td>-1111.1</td>\n",
       "      <td>37</td>\n",
       "      <td>40</td>\n",
       "    </tr>\n",
       "    <tr>\n",
       "      <th>17</th>\n",
       "      <td>Bosque</td>\n",
       "      <td>TX</td>\n",
       "      <td>18</td>\n",
       "      <td>14.3</td>\n",
       "      <td>8.2</td>\n",
       "      <td>14.8</td>\n",
       "      <td>2013</td>\n",
       "      <td>2641</td>\n",
       "    </tr>\n",
       "    <tr>\n",
       "      <th>18</th>\n",
       "      <td>Bowie</td>\n",
       "      <td>TX</td>\n",
       "      <td>102</td>\n",
       "      <td>17.5</td>\n",
       "      <td>8.2</td>\n",
       "      <td>12.4</td>\n",
       "      <td>5751</td>\n",
       "      <td>4922</td>\n",
       "    </tr>\n",
       "    <tr>\n",
       "      <th>19</th>\n",
       "      <td>Brazoria</td>\n",
       "      <td>TX</td>\n",
       "      <td>201</td>\n",
       "      <td>11.5</td>\n",
       "      <td>5.0</td>\n",
       "      <td>13.4</td>\n",
       "      <td>12713</td>\n",
       "      <td>5183</td>\n",
       "    </tr>\n",
       "    <tr>\n",
       "      <th>20</th>\n",
       "      <td>Brazos</td>\n",
       "      <td>TX</td>\n",
       "      <td>267</td>\n",
       "      <td>18.9</td>\n",
       "      <td>4.4</td>\n",
       "      <td>8.8</td>\n",
       "      <td>6781</td>\n",
       "      <td>2343</td>\n",
       "    </tr>\n",
       "    <tr>\n",
       "      <th>21</th>\n",
       "      <td>Brewster</td>\n",
       "      <td>TX</td>\n",
       "      <td>1</td>\n",
       "      <td>17.5</td>\n",
       "      <td>11.4</td>\n",
       "      <td>24.9</td>\n",
       "      <td>1156</td>\n",
       "      <td>779</td>\n",
       "    </tr>\n",
       "    <tr>\n",
       "      <th>22</th>\n",
       "      <td>Briscoe</td>\n",
       "      <td>TX</td>\n",
       "      <td>2</td>\n",
       "      <td>15.7</td>\n",
       "      <td>0.0</td>\n",
       "      <td>-1111.1</td>\n",
       "      <td>242</td>\n",
       "      <td>225</td>\n",
       "    </tr>\n",
       "    <tr>\n",
       "      <th>23</th>\n",
       "      <td>Brooks</td>\n",
       "      <td>TX</td>\n",
       "      <td>8</td>\n",
       "      <td>29.5</td>\n",
       "      <td>3.1</td>\n",
       "      <td>15.0</td>\n",
       "      <td>1417</td>\n",
       "      <td>773</td>\n",
       "    </tr>\n",
       "    <tr>\n",
       "      <th>24</th>\n",
       "      <td>Brown</td>\n",
       "      <td>TX</td>\n",
       "      <td>41</td>\n",
       "      <td>18.1</td>\n",
       "      <td>11.2</td>\n",
       "      <td>8.3</td>\n",
       "      <td>2502</td>\n",
       "      <td>2386</td>\n",
       "    </tr>\n",
       "    <tr>\n",
       "      <th>25</th>\n",
       "      <td>Burleson</td>\n",
       "      <td>TX</td>\n",
       "      <td>26</td>\n",
       "      <td>15.5</td>\n",
       "      <td>6.5</td>\n",
       "      <td>13.5</td>\n",
       "      <td>2185</td>\n",
       "      <td>1613</td>\n",
       "    </tr>\n",
       "    <tr>\n",
       "      <th>26</th>\n",
       "      <td>Burnet</td>\n",
       "      <td>TX</td>\n",
       "      <td>42</td>\n",
       "      <td>11.9</td>\n",
       "      <td>6.8</td>\n",
       "      <td>13.2</td>\n",
       "      <td>2364</td>\n",
       "      <td>1920</td>\n",
       "    </tr>\n",
       "    <tr>\n",
       "      <th>27</th>\n",
       "      <td>Caldwell</td>\n",
       "      <td>TX</td>\n",
       "      <td>67</td>\n",
       "      <td>14.7</td>\n",
       "      <td>7.4</td>\n",
       "      <td>14.0</td>\n",
       "      <td>2580</td>\n",
       "      <td>1405</td>\n",
       "    </tr>\n",
       "    <tr>\n",
       "      <th>28</th>\n",
       "      <td>Calhoun</td>\n",
       "      <td>TX</td>\n",
       "      <td>40</td>\n",
       "      <td>16.3</td>\n",
       "      <td>3.6</td>\n",
       "      <td>9.9</td>\n",
       "      <td>3372</td>\n",
       "      <td>1671</td>\n",
       "    </tr>\n",
       "    <tr>\n",
       "      <th>29</th>\n",
       "      <td>Callahan</td>\n",
       "      <td>TX</td>\n",
       "      <td>15</td>\n",
       "      <td>14.3</td>\n",
       "      <td>6.6</td>\n",
       "      <td>18.2</td>\n",
       "      <td>1347</td>\n",
       "      <td>1409</td>\n",
       "    </tr>\n",
       "    <tr>\n",
       "      <th>...</th>\n",
       "      <td>...</td>\n",
       "      <td>...</td>\n",
       "      <td>...</td>\n",
       "      <td>...</td>\n",
       "      <td>...</td>\n",
       "      <td>...</td>\n",
       "      <td>...</td>\n",
       "      <td>...</td>\n",
       "    </tr>\n",
       "    <tr>\n",
       "      <th>224</th>\n",
       "      <td>Titus</td>\n",
       "      <td>TX</td>\n",
       "      <td>72</td>\n",
       "      <td>16.4</td>\n",
       "      <td>5.5</td>\n",
       "      <td>15.1</td>\n",
       "      <td>2546</td>\n",
       "      <td>1338</td>\n",
       "    </tr>\n",
       "    <tr>\n",
       "      <th>225</th>\n",
       "      <td>Tom Green</td>\n",
       "      <td>TX</td>\n",
       "      <td>68</td>\n",
       "      <td>16.7</td>\n",
       "      <td>8.0</td>\n",
       "      <td>15.9</td>\n",
       "      <td>4738</td>\n",
       "      <td>3035</td>\n",
       "    </tr>\n",
       "    <tr>\n",
       "      <th>226</th>\n",
       "      <td>Travis</td>\n",
       "      <td>TX</td>\n",
       "      <td>898</td>\n",
       "      <td>13.9</td>\n",
       "      <td>5.8</td>\n",
       "      <td>12.9</td>\n",
       "      <td>43572</td>\n",
       "      <td>12200</td>\n",
       "    </tr>\n",
       "    <tr>\n",
       "      <th>227</th>\n",
       "      <td>Trinity</td>\n",
       "      <td>TX</td>\n",
       "      <td>21</td>\n",
       "      <td>17.8</td>\n",
       "      <td>12.6</td>\n",
       "      <td>19.0</td>\n",
       "      <td>1544</td>\n",
       "      <td>1892</td>\n",
       "    </tr>\n",
       "    <tr>\n",
       "      <th>228</th>\n",
       "      <td>Tyler</td>\n",
       "      <td>TX</td>\n",
       "      <td>22</td>\n",
       "      <td>17.5</td>\n",
       "      <td>13.1</td>\n",
       "      <td>12.1</td>\n",
       "      <td>2219</td>\n",
       "      <td>2448</td>\n",
       "    </tr>\n",
       "    <tr>\n",
       "      <th>229</th>\n",
       "      <td>Upshur</td>\n",
       "      <td>TX</td>\n",
       "      <td>64</td>\n",
       "      <td>15.9</td>\n",
       "      <td>7.3</td>\n",
       "      <td>15.4</td>\n",
       "      <td>2332</td>\n",
       "      <td>2101</td>\n",
       "    </tr>\n",
       "    <tr>\n",
       "      <th>230</th>\n",
       "      <td>Upton</td>\n",
       "      <td>TX</td>\n",
       "      <td>2</td>\n",
       "      <td>16.3</td>\n",
       "      <td>0.0</td>\n",
       "      <td>-1111.1</td>\n",
       "      <td>487</td>\n",
       "      <td>349</td>\n",
       "    </tr>\n",
       "    <tr>\n",
       "      <th>231</th>\n",
       "      <td>Uvalde</td>\n",
       "      <td>TX</td>\n",
       "      <td>17</td>\n",
       "      <td>23.4</td>\n",
       "      <td>4.7</td>\n",
       "      <td>7.7</td>\n",
       "      <td>2350</td>\n",
       "      <td>1174</td>\n",
       "    </tr>\n",
       "    <tr>\n",
       "      <th>232</th>\n",
       "      <td>Val Verde</td>\n",
       "      <td>TX</td>\n",
       "      <td>15</td>\n",
       "      <td>22.4</td>\n",
       "      <td>5.7</td>\n",
       "      <td>8.8</td>\n",
       "      <td>4568</td>\n",
       "      <td>1561</td>\n",
       "    </tr>\n",
       "    <tr>\n",
       "      <th>233</th>\n",
       "      <td>Van Zandt</td>\n",
       "      <td>TX</td>\n",
       "      <td>62</td>\n",
       "      <td>14.0</td>\n",
       "      <td>4.3</td>\n",
       "      <td>20.2</td>\n",
       "      <td>3053</td>\n",
       "      <td>2930</td>\n",
       "    </tr>\n",
       "    <tr>\n",
       "      <th>234</th>\n",
       "      <td>Victoria</td>\n",
       "      <td>TX</td>\n",
       "      <td>97</td>\n",
       "      <td>15.5</td>\n",
       "      <td>6.1</td>\n",
       "      <td>11.2</td>\n",
       "      <td>6733</td>\n",
       "      <td>3466</td>\n",
       "    </tr>\n",
       "    <tr>\n",
       "      <th>235</th>\n",
       "      <td>Walker</td>\n",
       "      <td>TX</td>\n",
       "      <td>80</td>\n",
       "      <td>19.4</td>\n",
       "      <td>6.2</td>\n",
       "      <td>13.8</td>\n",
       "      <td>3069</td>\n",
       "      <td>2139</td>\n",
       "    </tr>\n",
       "    <tr>\n",
       "      <th>236</th>\n",
       "      <td>Waller</td>\n",
       "      <td>TX</td>\n",
       "      <td>68</td>\n",
       "      <td>17.5</td>\n",
       "      <td>3.2</td>\n",
       "      <td>12.1</td>\n",
       "      <td>2466</td>\n",
       "      <td>1189</td>\n",
       "    </tr>\n",
       "    <tr>\n",
       "      <th>237</th>\n",
       "      <td>Ward</td>\n",
       "      <td>TX</td>\n",
       "      <td>12</td>\n",
       "      <td>17.1</td>\n",
       "      <td>7.1</td>\n",
       "      <td>10.4</td>\n",
       "      <td>1573</td>\n",
       "      <td>1073</td>\n",
       "    </tr>\n",
       "    <tr>\n",
       "      <th>238</th>\n",
       "      <td>Washington</td>\n",
       "      <td>TX</td>\n",
       "      <td>52</td>\n",
       "      <td>13.6</td>\n",
       "      <td>4.6</td>\n",
       "      <td>5.8</td>\n",
       "      <td>1956</td>\n",
       "      <td>1729</td>\n",
       "    </tr>\n",
       "    <tr>\n",
       "      <th>239</th>\n",
       "      <td>Webb</td>\n",
       "      <td>TX</td>\n",
       "      <td>67</td>\n",
       "      <td>27.1</td>\n",
       "      <td>5.3</td>\n",
       "      <td>6.0</td>\n",
       "      <td>17803</td>\n",
       "      <td>3046</td>\n",
       "    </tr>\n",
       "    <tr>\n",
       "      <th>240</th>\n",
       "      <td>Wharton</td>\n",
       "      <td>TX</td>\n",
       "      <td>38</td>\n",
       "      <td>15.6</td>\n",
       "      <td>5.3</td>\n",
       "      <td>10.3</td>\n",
       "      <td>3185</td>\n",
       "      <td>2056</td>\n",
       "    </tr>\n",
       "    <tr>\n",
       "      <th>241</th>\n",
       "      <td>Wheeler</td>\n",
       "      <td>TX</td>\n",
       "      <td>5</td>\n",
       "      <td>13.8</td>\n",
       "      <td>7.6</td>\n",
       "      <td>23.7</td>\n",
       "      <td>574</td>\n",
       "      <td>883</td>\n",
       "    </tr>\n",
       "    <tr>\n",
       "      <th>242</th>\n",
       "      <td>Wichita</td>\n",
       "      <td>TX</td>\n",
       "      <td>201</td>\n",
       "      <td>15.6</td>\n",
       "      <td>8.9</td>\n",
       "      <td>13.2</td>\n",
       "      <td>5643</td>\n",
       "      <td>3875</td>\n",
       "    </tr>\n",
       "    <tr>\n",
       "      <th>243</th>\n",
       "      <td>Wilbarger</td>\n",
       "      <td>TX</td>\n",
       "      <td>14</td>\n",
       "      <td>15.9</td>\n",
       "      <td>6.7</td>\n",
       "      <td>9.6</td>\n",
       "      <td>1995</td>\n",
       "      <td>1844</td>\n",
       "    </tr>\n",
       "    <tr>\n",
       "      <th>244</th>\n",
       "      <td>Willacy</td>\n",
       "      <td>TX</td>\n",
       "      <td>34</td>\n",
       "      <td>30.2</td>\n",
       "      <td>4.0</td>\n",
       "      <td>5.8</td>\n",
       "      <td>3972</td>\n",
       "      <td>1186</td>\n",
       "    </tr>\n",
       "    <tr>\n",
       "      <th>245</th>\n",
       "      <td>Williamson</td>\n",
       "      <td>TX</td>\n",
       "      <td>297</td>\n",
       "      <td>6.9</td>\n",
       "      <td>4.9</td>\n",
       "      <td>7.9</td>\n",
       "      <td>14947</td>\n",
       "      <td>3857</td>\n",
       "    </tr>\n",
       "    <tr>\n",
       "      <th>246</th>\n",
       "      <td>Wilson</td>\n",
       "      <td>TX</td>\n",
       "      <td>47</td>\n",
       "      <td>12.0</td>\n",
       "      <td>6.9</td>\n",
       "      <td>9.0</td>\n",
       "      <td>2171</td>\n",
       "      <td>1313</td>\n",
       "    </tr>\n",
       "    <tr>\n",
       "      <th>247</th>\n",
       "      <td>Winkler</td>\n",
       "      <td>TX</td>\n",
       "      <td>8</td>\n",
       "      <td>16.4</td>\n",
       "      <td>5.0</td>\n",
       "      <td>21.9</td>\n",
       "      <td>1120</td>\n",
       "      <td>762</td>\n",
       "    </tr>\n",
       "    <tr>\n",
       "      <th>248</th>\n",
       "      <td>Wise</td>\n",
       "      <td>TX</td>\n",
       "      <td>63</td>\n",
       "      <td>10.8</td>\n",
       "      <td>6.2</td>\n",
       "      <td>13.3</td>\n",
       "      <td>3392</td>\n",
       "      <td>2131</td>\n",
       "    </tr>\n",
       "    <tr>\n",
       "      <th>249</th>\n",
       "      <td>Wood</td>\n",
       "      <td>TX</td>\n",
       "      <td>63</td>\n",
       "      <td>15.2</td>\n",
       "      <td>8.4</td>\n",
       "      <td>14.8</td>\n",
       "      <td>2135</td>\n",
       "      <td>2603</td>\n",
       "    </tr>\n",
       "    <tr>\n",
       "      <th>250</th>\n",
       "      <td>Yoakum</td>\n",
       "      <td>TX</td>\n",
       "      <td>9</td>\n",
       "      <td>15.5</td>\n",
       "      <td>3.6</td>\n",
       "      <td>17.8</td>\n",
       "      <td>1256</td>\n",
       "      <td>566</td>\n",
       "    </tr>\n",
       "    <tr>\n",
       "      <th>251</th>\n",
       "      <td>Young</td>\n",
       "      <td>TX</td>\n",
       "      <td>20</td>\n",
       "      <td>16.4</td>\n",
       "      <td>6.4</td>\n",
       "      <td>17.2</td>\n",
       "      <td>2222</td>\n",
       "      <td>2563</td>\n",
       "    </tr>\n",
       "    <tr>\n",
       "      <th>252</th>\n",
       "      <td>Zapata</td>\n",
       "      <td>TX</td>\n",
       "      <td>13</td>\n",
       "      <td>27.0</td>\n",
       "      <td>5.0</td>\n",
       "      <td>10.5</td>\n",
       "      <td>2409</td>\n",
       "      <td>851</td>\n",
       "    </tr>\n",
       "    <tr>\n",
       "      <th>253</th>\n",
       "      <td>Zavala</td>\n",
       "      <td>TX</td>\n",
       "      <td>9</td>\n",
       "      <td>32.7</td>\n",
       "      <td>4.8</td>\n",
       "      <td>12.1</td>\n",
       "      <td>2125</td>\n",
       "      <td>922</td>\n",
       "    </tr>\n",
       "  </tbody>\n",
       "</table>\n",
       "<p>254 rows × 8 columns</p>\n",
       "</div>"
      ],
      "text/plain": [
       "         County State  Population_Density  Poverty  Infant_Mortality  Suicide  \\\n",
       "0      Anderson    TX                  53     20.1               6.4     17.4   \n",
       "1       Andrews    TX                   8     15.0              10.7     13.6   \n",
       "2      Angelina    TX                 102     17.3               6.4     13.0   \n",
       "3       Aransas    TX                  98     18.5               7.0     18.8   \n",
       "4        Archer    TX                  10      9.1               8.9  -1111.1   \n",
       "5     Armstrong    TX                   2      9.7               0.0  -1111.1   \n",
       "6      Atascosa    TX                  35     19.0               8.8     17.1   \n",
       "7        Austin    TX                  40     11.3               5.7     11.3   \n",
       "8        Bailey    TX                   8     17.9               7.3  -1111.1   \n",
       "9       Bandera    TX                  25     12.4               7.6     22.2   \n",
       "10      Bastrop    TX                  79     12.6               5.6     16.4   \n",
       "11       Baylor    TX                   4     16.7               0.0  -1111.1   \n",
       "12          Bee    TX                  37     24.6               6.7     14.1   \n",
       "13         Bell    TX                 242     14.8               7.5     11.5   \n",
       "14        Bexar    TX                1218     17.6               7.0     10.3   \n",
       "15       Blanco    TX                  13     10.5               5.7     23.1   \n",
       "16       Borden    TX                   1      6.9               0.0  -1111.1   \n",
       "17       Bosque    TX                  18     14.3               8.2     14.8   \n",
       "18        Bowie    TX                 102     17.5               8.2     12.4   \n",
       "19     Brazoria    TX                 201     11.5               5.0     13.4   \n",
       "20       Brazos    TX                 267     18.9               4.4      8.8   \n",
       "21     Brewster    TX                   1     17.5              11.4     24.9   \n",
       "22      Briscoe    TX                   2     15.7               0.0  -1111.1   \n",
       "23       Brooks    TX                   8     29.5               3.1     15.0   \n",
       "24        Brown    TX                  41     18.1              11.2      8.3   \n",
       "25     Burleson    TX                  26     15.5               6.5     13.5   \n",
       "26       Burnet    TX                  42     11.9               6.8     13.2   \n",
       "27     Caldwell    TX                  67     14.7               7.4     14.0   \n",
       "28      Calhoun    TX                  40     16.3               3.6      9.9   \n",
       "29     Callahan    TX                  15     14.3               6.6     18.2   \n",
       "..          ...   ...                 ...      ...               ...      ...   \n",
       "224       Titus    TX                  72     16.4               5.5     15.1   \n",
       "225   Tom Green    TX                  68     16.7               8.0     15.9   \n",
       "226      Travis    TX                 898     13.9               5.8     12.9   \n",
       "227     Trinity    TX                  21     17.8              12.6     19.0   \n",
       "228       Tyler    TX                  22     17.5              13.1     12.1   \n",
       "229      Upshur    TX                  64     15.9               7.3     15.4   \n",
       "230       Upton    TX                   2     16.3               0.0  -1111.1   \n",
       "231      Uvalde    TX                  17     23.4               4.7      7.7   \n",
       "232   Val Verde    TX                  15     22.4               5.7      8.8   \n",
       "233   Van Zandt    TX                  62     14.0               4.3     20.2   \n",
       "234    Victoria    TX                  97     15.5               6.1     11.2   \n",
       "235      Walker    TX                  80     19.4               6.2     13.8   \n",
       "236      Waller    TX                  68     17.5               3.2     12.1   \n",
       "237        Ward    TX                  12     17.1               7.1     10.4   \n",
       "238  Washington    TX                  52     13.6               4.6      5.8   \n",
       "239        Webb    TX                  67     27.1               5.3      6.0   \n",
       "240     Wharton    TX                  38     15.6               5.3     10.3   \n",
       "241     Wheeler    TX                   5     13.8               7.6     23.7   \n",
       "242     Wichita    TX                 201     15.6               8.9     13.2   \n",
       "243   Wilbarger    TX                  14     15.9               6.7      9.6   \n",
       "244     Willacy    TX                  34     30.2               4.0      5.8   \n",
       "245  Williamson    TX                 297      6.9               4.9      7.9   \n",
       "246      Wilson    TX                  47     12.0               6.9      9.0   \n",
       "247     Winkler    TX                   8     16.4               5.0     21.9   \n",
       "248        Wise    TX                  63     10.8               6.2     13.3   \n",
       "249        Wood    TX                  63     15.2               8.4     14.8   \n",
       "250      Yoakum    TX                   9     15.5               3.6     17.8   \n",
       "251       Young    TX                  20     16.4               6.4     17.2   \n",
       "252      Zapata    TX                  13     27.0               5.0     10.5   \n",
       "253      Zavala    TX                   9     32.7               4.8     12.1   \n",
       "\n",
       "     Total_Births  Total_Deaths  \n",
       "0            3298          3018  \n",
       "1            2094          1093  \n",
       "2            6401          3955  \n",
       "3            2362          2560  \n",
       "4            1005           677  \n",
       "5             227           266  \n",
       "6            3164          1571  \n",
       "7            3236          2522  \n",
       "8            1207           615  \n",
       "9            1726          1407  \n",
       "10           4464          2265  \n",
       "11            409           700  \n",
       "12           1938          1123  \n",
       "13          16694          4819  \n",
       "14          73703         30791  \n",
       "15            949           917  \n",
       "16             37            40  \n",
       "17           2013          2641  \n",
       "18           5751          4922  \n",
       "19          12713          5183  \n",
       "20           6781          2343  \n",
       "21           1156           779  \n",
       "22            242           225  \n",
       "23           1417           773  \n",
       "24           2502          2386  \n",
       "25           2185          1613  \n",
       "26           2364          1920  \n",
       "27           2580          1405  \n",
       "28           3372          1671  \n",
       "29           1347          1409  \n",
       "..            ...           ...  \n",
       "224          2546          1338  \n",
       "225          4738          3035  \n",
       "226         43572         12200  \n",
       "227          1544          1892  \n",
       "228          2219          2448  \n",
       "229          2332          2101  \n",
       "230           487           349  \n",
       "231          2350          1174  \n",
       "232          4568          1561  \n",
       "233          3053          2930  \n",
       "234          6733          3466  \n",
       "235          3069          2139  \n",
       "236          2466          1189  \n",
       "237          1573          1073  \n",
       "238          1956          1729  \n",
       "239         17803          3046  \n",
       "240          3185          2056  \n",
       "241           574           883  \n",
       "242          5643          3875  \n",
       "243          1995          1844  \n",
       "244          3972          1186  \n",
       "245         14947          3857  \n",
       "246          2171          1313  \n",
       "247          1120           762  \n",
       "248          3392          2131  \n",
       "249          2135          2603  \n",
       "250          1256           566  \n",
       "251          2222          2563  \n",
       "252          2409           851  \n",
       "253          2125           922  \n",
       "\n",
       "[254 rows x 8 columns]"
      ]
     },
     "execution_count": 58,
     "metadata": {},
     "output_type": "execute_result"
    }
   ],
   "source": [
    "dem_data.fillna(0)"
   ]
  },
  {
   "cell_type": "code",
   "execution_count": 59,
   "metadata": {
    "collapsed": true
   },
   "outputs": [],
   "source": [
    "clean_dem_data=dem_data.fillna(0)"
   ]
  },
  {
   "cell_type": "code",
   "execution_count": 60,
   "metadata": {
    "collapsed": false
   },
   "outputs": [
    {
     "name": "stdout",
     "output_type": "stream",
     "text": [
      "         County State  Population_Density  Poverty  Infant_Mortality  Suicide  \\\n",
      "0      Anderson    TX                  53     20.1               6.4     17.4   \n",
      "1       Andrews    TX                   8     15.0              10.7     13.6   \n",
      "2      Angelina    TX                 102     17.3               6.4     13.0   \n",
      "3       Aransas    TX                  98     18.5               7.0     18.8   \n",
      "4        Archer    TX                  10      9.1               8.9  -1111.1   \n",
      "5     Armstrong    TX                   2      9.7               0.0  -1111.1   \n",
      "6      Atascosa    TX                  35     19.0               8.8     17.1   \n",
      "7        Austin    TX                  40     11.3               5.7     11.3   \n",
      "8        Bailey    TX                   8     17.9               7.3  -1111.1   \n",
      "9       Bandera    TX                  25     12.4               7.6     22.2   \n",
      "10      Bastrop    TX                  79     12.6               5.6     16.4   \n",
      "11       Baylor    TX                   4     16.7               0.0  -1111.1   \n",
      "12          Bee    TX                  37     24.6               6.7     14.1   \n",
      "13         Bell    TX                 242     14.8               7.5     11.5   \n",
      "14        Bexar    TX                1218     17.6               7.0     10.3   \n",
      "15       Blanco    TX                  13     10.5               5.7     23.1   \n",
      "16       Borden    TX                   1      6.9               0.0  -1111.1   \n",
      "17       Bosque    TX                  18     14.3               8.2     14.8   \n",
      "18        Bowie    TX                 102     17.5               8.2     12.4   \n",
      "19     Brazoria    TX                 201     11.5               5.0     13.4   \n",
      "20       Brazos    TX                 267     18.9               4.4      8.8   \n",
      "21     Brewster    TX                   1     17.5              11.4     24.9   \n",
      "22      Briscoe    TX                   2     15.7               0.0  -1111.1   \n",
      "23       Brooks    TX                   8     29.5               3.1     15.0   \n",
      "24        Brown    TX                  41     18.1              11.2      8.3   \n",
      "25     Burleson    TX                  26     15.5               6.5     13.5   \n",
      "26       Burnet    TX                  42     11.9               6.8     13.2   \n",
      "27     Caldwell    TX                  67     14.7               7.4     14.0   \n",
      "28      Calhoun    TX                  40     16.3               3.6      9.9   \n",
      "29     Callahan    TX                  15     14.3               6.6     18.2   \n",
      "..          ...   ...                 ...      ...               ...      ...   \n",
      "224       Titus    TX                  72     16.4               5.5     15.1   \n",
      "225   Tom Green    TX                  68     16.7               8.0     15.9   \n",
      "226      Travis    TX                 898     13.9               5.8     12.9   \n",
      "227     Trinity    TX                  21     17.8              12.6     19.0   \n",
      "228       Tyler    TX                  22     17.5              13.1     12.1   \n",
      "229      Upshur    TX                  64     15.9               7.3     15.4   \n",
      "230       Upton    TX                   2     16.3               0.0  -1111.1   \n",
      "231      Uvalde    TX                  17     23.4               4.7      7.7   \n",
      "232   Val Verde    TX                  15     22.4               5.7      8.8   \n",
      "233   Van Zandt    TX                  62     14.0               4.3     20.2   \n",
      "234    Victoria    TX                  97     15.5               6.1     11.2   \n",
      "235      Walker    TX                  80     19.4               6.2     13.8   \n",
      "236      Waller    TX                  68     17.5               3.2     12.1   \n",
      "237        Ward    TX                  12     17.1               7.1     10.4   \n",
      "238  Washington    TX                  52     13.6               4.6      5.8   \n",
      "239        Webb    TX                  67     27.1               5.3      6.0   \n",
      "240     Wharton    TX                  38     15.6               5.3     10.3   \n",
      "241     Wheeler    TX                   5     13.8               7.6     23.7   \n",
      "242     Wichita    TX                 201     15.6               8.9     13.2   \n",
      "243   Wilbarger    TX                  14     15.9               6.7      9.6   \n",
      "244     Willacy    TX                  34     30.2               4.0      5.8   \n",
      "245  Williamson    TX                 297      6.9               4.9      7.9   \n",
      "246      Wilson    TX                  47     12.0               6.9      9.0   \n",
      "247     Winkler    TX                   8     16.4               5.0     21.9   \n",
      "248        Wise    TX                  63     10.8               6.2     13.3   \n",
      "249        Wood    TX                  63     15.2               8.4     14.8   \n",
      "250      Yoakum    TX                   9     15.5               3.6     17.8   \n",
      "251       Young    TX                  20     16.4               6.4     17.2   \n",
      "252      Zapata    TX                  13     27.0               5.0     10.5   \n",
      "253      Zavala    TX                   9     32.7               4.8     12.1   \n",
      "\n",
      "     Total_Births  Total_Deaths  \n",
      "0            3298          3018  \n",
      "1            2094          1093  \n",
      "2            6401          3955  \n",
      "3            2362          2560  \n",
      "4            1005           677  \n",
      "5             227           266  \n",
      "6            3164          1571  \n",
      "7            3236          2522  \n",
      "8            1207           615  \n",
      "9            1726          1407  \n",
      "10           4464          2265  \n",
      "11            409           700  \n",
      "12           1938          1123  \n",
      "13          16694          4819  \n",
      "14          73703         30791  \n",
      "15            949           917  \n",
      "16             37            40  \n",
      "17           2013          2641  \n",
      "18           5751          4922  \n",
      "19          12713          5183  \n",
      "20           6781          2343  \n",
      "21           1156           779  \n",
      "22            242           225  \n",
      "23           1417           773  \n",
      "24           2502          2386  \n",
      "25           2185          1613  \n",
      "26           2364          1920  \n",
      "27           2580          1405  \n",
      "28           3372          1671  \n",
      "29           1347          1409  \n",
      "..            ...           ...  \n",
      "224          2546          1338  \n",
      "225          4738          3035  \n",
      "226         43572         12200  \n",
      "227          1544          1892  \n",
      "228          2219          2448  \n",
      "229          2332          2101  \n",
      "230           487           349  \n",
      "231          2350          1174  \n",
      "232          4568          1561  \n",
      "233          3053          2930  \n",
      "234          6733          3466  \n",
      "235          3069          2139  \n",
      "236          2466          1189  \n",
      "237          1573          1073  \n",
      "238          1956          1729  \n",
      "239         17803          3046  \n",
      "240          3185          2056  \n",
      "241           574           883  \n",
      "242          5643          3875  \n",
      "243          1995          1844  \n",
      "244          3972          1186  \n",
      "245         14947          3857  \n",
      "246          2171          1313  \n",
      "247          1120           762  \n",
      "248          3392          2131  \n",
      "249          2135          2603  \n",
      "250          1256           566  \n",
      "251          2222          2563  \n",
      "252          2409           851  \n",
      "253          2125           922  \n",
      "\n",
      "[254 rows x 8 columns]\n"
     ]
    }
   ],
   "source": [
    "print(clean_dem_data)"
   ]
  },
  {
   "cell_type": "code",
   "execution_count": 65,
   "metadata": {
    "collapsed": false
   },
   "outputs": [],
   "source": []
  },
  {
   "cell_type": "code",
   "execution_count": 68,
   "metadata": {
    "collapsed": false
   },
   "outputs": [],
   "source": [
    "clean_dem_data=dem_data.fillna(0)"
   ]
  },
  {
   "cell_type": "code",
   "execution_count": 70,
   "metadata": {
    "collapsed": false
   },
   "outputs": [],
   "source": [
    "clean_dem_data.loc[(dem_data['Suicide'] < 0 , 'Suicide' ) ] = 0"
   ]
  },
  {
   "cell_type": "code",
   "execution_count": 71,
   "metadata": {
    "collapsed": false
   },
   "outputs": [
    {
     "name": "stdout",
     "output_type": "stream",
     "text": [
      "         County State  Population_Density  Poverty  Infant_Mortality  Suicide  \\\n",
      "0      Anderson    TX                  53     20.1               6.4     17.4   \n",
      "1       Andrews    TX                   8     15.0              10.7     13.6   \n",
      "2      Angelina    TX                 102     17.3               6.4     13.0   \n",
      "3       Aransas    TX                  98     18.5               7.0     18.8   \n",
      "4        Archer    TX                  10      9.1               8.9      0.0   \n",
      "5     Armstrong    TX                   2      9.7               0.0      0.0   \n",
      "6      Atascosa    TX                  35     19.0               8.8     17.1   \n",
      "7        Austin    TX                  40     11.3               5.7     11.3   \n",
      "8        Bailey    TX                   8     17.9               7.3      0.0   \n",
      "9       Bandera    TX                  25     12.4               7.6     22.2   \n",
      "10      Bastrop    TX                  79     12.6               5.6     16.4   \n",
      "11       Baylor    TX                   4     16.7               0.0      0.0   \n",
      "12          Bee    TX                  37     24.6               6.7     14.1   \n",
      "13         Bell    TX                 242     14.8               7.5     11.5   \n",
      "14        Bexar    TX                1218     17.6               7.0     10.3   \n",
      "15       Blanco    TX                  13     10.5               5.7     23.1   \n",
      "16       Borden    TX                   1      6.9               0.0      0.0   \n",
      "17       Bosque    TX                  18     14.3               8.2     14.8   \n",
      "18        Bowie    TX                 102     17.5               8.2     12.4   \n",
      "19     Brazoria    TX                 201     11.5               5.0     13.4   \n",
      "20       Brazos    TX                 267     18.9               4.4      8.8   \n",
      "21     Brewster    TX                   1     17.5              11.4     24.9   \n",
      "22      Briscoe    TX                   2     15.7               0.0      0.0   \n",
      "23       Brooks    TX                   8     29.5               3.1     15.0   \n",
      "24        Brown    TX                  41     18.1              11.2      8.3   \n",
      "25     Burleson    TX                  26     15.5               6.5     13.5   \n",
      "26       Burnet    TX                  42     11.9               6.8     13.2   \n",
      "27     Caldwell    TX                  67     14.7               7.4     14.0   \n",
      "28      Calhoun    TX                  40     16.3               3.6      9.9   \n",
      "29     Callahan    TX                  15     14.3               6.6     18.2   \n",
      "..          ...   ...                 ...      ...               ...      ...   \n",
      "224       Titus    TX                  72     16.4               5.5     15.1   \n",
      "225   Tom Green    TX                  68     16.7               8.0     15.9   \n",
      "226      Travis    TX                 898     13.9               5.8     12.9   \n",
      "227     Trinity    TX                  21     17.8              12.6     19.0   \n",
      "228       Tyler    TX                  22     17.5              13.1     12.1   \n",
      "229      Upshur    TX                  64     15.9               7.3     15.4   \n",
      "230       Upton    TX                   2     16.3               0.0      0.0   \n",
      "231      Uvalde    TX                  17     23.4               4.7      7.7   \n",
      "232   Val Verde    TX                  15     22.4               5.7      8.8   \n",
      "233   Van Zandt    TX                  62     14.0               4.3     20.2   \n",
      "234    Victoria    TX                  97     15.5               6.1     11.2   \n",
      "235      Walker    TX                  80     19.4               6.2     13.8   \n",
      "236      Waller    TX                  68     17.5               3.2     12.1   \n",
      "237        Ward    TX                  12     17.1               7.1     10.4   \n",
      "238  Washington    TX                  52     13.6               4.6      5.8   \n",
      "239        Webb    TX                  67     27.1               5.3      6.0   \n",
      "240     Wharton    TX                  38     15.6               5.3     10.3   \n",
      "241     Wheeler    TX                   5     13.8               7.6     23.7   \n",
      "242     Wichita    TX                 201     15.6               8.9     13.2   \n",
      "243   Wilbarger    TX                  14     15.9               6.7      9.6   \n",
      "244     Willacy    TX                  34     30.2               4.0      5.8   \n",
      "245  Williamson    TX                 297      6.9               4.9      7.9   \n",
      "246      Wilson    TX                  47     12.0               6.9      9.0   \n",
      "247     Winkler    TX                   8     16.4               5.0     21.9   \n",
      "248        Wise    TX                  63     10.8               6.2     13.3   \n",
      "249        Wood    TX                  63     15.2               8.4     14.8   \n",
      "250      Yoakum    TX                   9     15.5               3.6     17.8   \n",
      "251       Young    TX                  20     16.4               6.4     17.2   \n",
      "252      Zapata    TX                  13     27.0               5.0     10.5   \n",
      "253      Zavala    TX                   9     32.7               4.8     12.1   \n",
      "\n",
      "     Total_Births  Total_Deaths  \n",
      "0            3298          3018  \n",
      "1            2094          1093  \n",
      "2            6401          3955  \n",
      "3            2362          2560  \n",
      "4            1005           677  \n",
      "5             227           266  \n",
      "6            3164          1571  \n",
      "7            3236          2522  \n",
      "8            1207           615  \n",
      "9            1726          1407  \n",
      "10           4464          2265  \n",
      "11            409           700  \n",
      "12           1938          1123  \n",
      "13          16694          4819  \n",
      "14          73703         30791  \n",
      "15            949           917  \n",
      "16             37            40  \n",
      "17           2013          2641  \n",
      "18           5751          4922  \n",
      "19          12713          5183  \n",
      "20           6781          2343  \n",
      "21           1156           779  \n",
      "22            242           225  \n",
      "23           1417           773  \n",
      "24           2502          2386  \n",
      "25           2185          1613  \n",
      "26           2364          1920  \n",
      "27           2580          1405  \n",
      "28           3372          1671  \n",
      "29           1347          1409  \n",
      "..            ...           ...  \n",
      "224          2546          1338  \n",
      "225          4738          3035  \n",
      "226         43572         12200  \n",
      "227          1544          1892  \n",
      "228          2219          2448  \n",
      "229          2332          2101  \n",
      "230           487           349  \n",
      "231          2350          1174  \n",
      "232          4568          1561  \n",
      "233          3053          2930  \n",
      "234          6733          3466  \n",
      "235          3069          2139  \n",
      "236          2466          1189  \n",
      "237          1573          1073  \n",
      "238          1956          1729  \n",
      "239         17803          3046  \n",
      "240          3185          2056  \n",
      "241           574           883  \n",
      "242          5643          3875  \n",
      "243          1995          1844  \n",
      "244          3972          1186  \n",
      "245         14947          3857  \n",
      "246          2171          1313  \n",
      "247          1120           762  \n",
      "248          3392          2131  \n",
      "249          2135          2603  \n",
      "250          1256           566  \n",
      "251          2222          2563  \n",
      "252          2409           851  \n",
      "253          2125           922  \n",
      "\n",
      "[254 rows x 8 columns]\n"
     ]
    }
   ],
   "source": [
    "print(clean_dem_data)"
   ]
  },
  {
   "cell_type": "code",
   "execution_count": 73,
   "metadata": {
    "collapsed": false
   },
   "outputs": [
    {
     "data": {
      "text/plain": [
       "count    254.000000\n",
       "mean      16.793307\n",
       "std        4.891179\n",
       "min        5.400000\n",
       "25%       13.700000\n",
       "50%       16.350000\n",
       "75%       19.100000\n",
       "max       36.200000\n",
       "Name: Poverty, dtype: float64"
      ]
     },
     "execution_count": 73,
     "metadata": {},
     "output_type": "execute_result"
    }
   ],
   "source": [
    "clean_dem_data['Poverty'].describe()"
   ]
  },
  {
   "cell_type": "code",
   "execution_count": 76,
   "metadata": {
    "collapsed": false
   },
   "outputs": [
    {
     "data": {
      "text/plain": [
       "36.200000000000003"
      ]
     },
     "execution_count": 76,
     "metadata": {},
     "output_type": "execute_result"
    }
   ],
   "source": [
    "clean_dem_data['Poverty'].max()"
   ]
  },
  {
   "cell_type": "code",
   "execution_count": 80,
   "metadata": {
    "collapsed": true
   },
   "outputs": [],
   "source": [
    "import matplotlib.pyplot as plt"
   ]
  },
  {
   "cell_type": "code",
   "execution_count": 83,
   "metadata": {
    "collapsed": false
   },
   "outputs": [
    {
     "data": {
      "image/png": "[encoded data removed]",
      "text/plain": [
       "<matplotlib.figure.Figure at 0x1fb6c0857f0>"
      ]
     },
     "metadata": {},
     "output_type": "display_data"
    }
   ],
   "source": [
    "plt.hist(clean_dem_data['Poverty'])\n",
    "plt.show()"
   ]
  },
  {
   "cell_type": "code",
   "execution_count": 93,
   "metadata": {
    "collapsed": false
   },
   "outputs": [
    {
     "data": {
      "image/png": "[encoded data removed]",
      "text/plain": [
       "<matplotlib.figure.Figure at 0x1fb6c788940>"
      ]
     },
     "metadata": {},
     "output_type": "display_data"
    }
   ],
   "source": [
    "plt.hist(clean_dem_data['Total_Deaths'])\n",
    "plt.savefig(\"Total_Deaths.jpg\")\n",
    "plt.show()"
   ]
  },
  {
   "cell_type": "code",
   "execution_count": 94,
   "metadata": {
    "collapsed": true
   },
   "outputs": [],
   "source": [
    "import sys"
   ]
  },
  {
   "cell_type": "code",
   "execution_count": 96,
   "metadata": {
    "collapsed": false
   },
   "outputs": [
    {
     "data": {
      "text/plain": [
       "'-f'"
      ]
     },
     "execution_count": 96,
     "metadata": {},
     "output_type": "execute_result"
    }
   ],
   "source": [
    "sys.argv[1]"
   ]
  },
  {
   "cell_type": "code",
   "execution_count": null,
   "metadata": {
    "collapsed": true
   },
   "outputs": [],
   "source": [
    "import pandas sys\n",
    "input_file=sys.argv[1]\n",
    "col = sys.argv[2]\n",
    "df=pandas.read_csv(input_file, sep ='\\t')\n",
    "import matplotlib.pyplot as plt\n",
    "plt.hist(df[col])\n",
    "plt.show()"
   ]
  }
 ],
 "metadata": {
  "celltoolbar": "Raw Cell Format",
  "kernelspec": {
   "display_name": "Python 3",
   "language": "python",
   "name": "python3"
  },
  "language_info": {
   "codemirror_mode": {
    "name": "ipython",
    "version": 3
   },
   "file_extension": ".py",
   "mimetype": "text/x-python",
   "name": "python",
   "nbconvert_exporter": "python",
   "pygments_lexer": "ipython3",
   "version": "3.6.0"
  }
 },
 "nbformat": 4,
 "nbformat_minor": 2
}
